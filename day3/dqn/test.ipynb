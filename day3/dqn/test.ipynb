{
 "cells": [
  {
   "cell_type": "markdown",
   "metadata": {},
   "source": [
    "# Test a trained model!"
   ]
  },
  {
   "cell_type": "code",
   "execution_count": 1,
   "metadata": {},
   "outputs": [],
   "source": [
    "import matplotlib.pyplot as plt\n",
    "import numpy as np\n",
    "import gym\n",
    "from dqn_agent import DQNAgent"
   ]
  },
  {
   "cell_type": "markdown",
   "metadata": {},
   "source": [
    "## 0. Create an environment instance"
   ]
  },
  {
   "cell_type": "code",
   "execution_count": 2,
   "metadata": {},
   "outputs": [
    {
     "name": "stdout",
     "output_type": "stream",
     "text": [
      "dimension of state space / number of actions : 4 / 2\n"
     ]
    }
   ],
   "source": [
    "env = gym.make('CartPole-v0')\n",
    "dimS = env.observation_space.shape[0]\n",
    "nA = env.action_space.n\n",
    "\n",
    "print('dimension of state space / number of actions : {} / {}'.format(dimS, nA))"
   ]
  },
  {
   "cell_type": "markdown",
   "metadata": {},
   "source": [
    "## 1. Create an agent instance, and load the trained models"
   ]
  },
  {
   "cell_type": "code",
   "execution_count": 6,
   "metadata": {},
   "outputs": [
    {
     "name": "stdout",
     "output_type": "stream",
     "text": [
      "agent spec\n",
      "--------------------------------------------------------------------------------\n",
      "{'render': False, 'batch_size': 64, 'buffer_size': 100000, 'tau': 0.001, 'lr': 0.001, 'hidden2': 128, 'hidden1': 128, 'gamma': 0.99, 'nA': 2, 'dimS': 4, 'self': <dqn_agent.DQNAgent object at 0x7f8809e93358>}\n",
      "--------------------------------------------------------------------------------\n"
     ]
    }
   ],
   "source": [
    "agent = DQNAgent(dimS, nA, hidden1=128, hidden2=128)\n",
    "agent.load_model('./checkpoints/CartPole-v0/DQN(iter=100000)model.pth.tar')"
   ]
  },
  {
   "cell_type": "markdown",
   "metadata": {},
   "source": [
    "## 2. Check how good our agent is!"
   ]
  },
  {
   "cell_type": "code",
   "execution_count": 9,
   "metadata": {},
   "outputs": [
    {
     "name": "stdout",
     "output_type": "stream",
     "text": [
      "score : 200.0\n"
     ]
    }
   ],
   "source": [
    "state = env.reset()\n",
    "score = 0.\n",
    "done = False\n",
    "\n",
    "while not done:\n",
    "    env.render()\n",
    "    action = agent.get_action(state, eps=0.0)\n",
    "    state, reward, done, info = env.step(action)\n",
    "    score += reward\n",
    "    \n",
    "env.close()    \n",
    "print('score : {}'.format(score))"
   ]
  },
  {
   "cell_type": "code",
   "execution_count": null,
   "metadata": {},
   "outputs": [],
   "source": []
  }
 ],
 "metadata": {
  "kernelspec": {
   "display_name": "Python 3",
   "language": "python",
   "name": "python3"
  },
  "language_info": {
   "codemirror_mode": {
    "name": "ipython",
    "version": 3
   },
   "file_extension": ".py",
   "mimetype": "text/x-python",
   "name": "python",
   "nbconvert_exporter": "python",
   "pygments_lexer": "ipython3",
   "version": "3.6.8"
  }
 },
 "nbformat": 4,
 "nbformat_minor": 2
}
